{
 "cells": [
  {
   "cell_type": "markdown",
   "metadata": {},
   "source": [
    "# Dopaminergic modulation of dSPN"
   ]
  },
  {
   "cell_type": "markdown",
   "metadata": {},
   "source": [
    "Following optimisation, you can analyse your results to visualise the comparison between the experimental data and the optimisation results. We have developed a class called optimisationResult, which loads all the files from the optimisation. You can develop your own analysis based on your requirements by creating a child class, see example dspn_analysis.py. The child class dSPNanalysis contains custom code as well as the loading of all files, enabling the user to define any analysis. The simulations are saved as voltage traces and can therefore be analysed like any electrophysiological recording."
   ]
  },
  {
   "cell_type": "code",
   "execution_count": 3,
   "metadata": {},
   "outputs": [],
   "source": [
    "from dspn_analysis import dSPNanalysis\n",
    "from neuromodcell.experimental_data import Experimental"
   ]
  },
  {
   "cell_type": "code",
   "execution_count": 4,
   "metadata": {
    "scrolled": true
   },
   "outputs": [
    {
     "name": "stderr",
     "output_type": "stream",
     "text": [
      "/home/jofrony/miniconda3/envs/py37/lib/python3.7/site-packages/neuromodcell/analysis.py:37: UserWarning: loadtxt: Empty input file: \"dspn/dopamine/ID_3/voltage_modulation_pass.csv\"\n",
      "  self.voltage_modulation_pass = np.loadtxt(self.dir_path /  'voltage_modulation_pass.csv')\n",
      "/home/jofrony/miniconda3/envs/py37/lib/python3.7/site-packages/neuromodcell/plotting.py:37: UserWarning: color is redundantly defined by the 'color' keyword argument and the fmt string \"ok\" (-> color='k'). The keyword argument will take precedence.\n",
      "  ax.plot(x, modulated_sim[i], 'ok', markersize=3,c='black')\n",
      "/home/jofrony/miniconda3/envs/py37/lib/python3.7/site-packages/neuromodcell/plotting.py:38: UserWarning: color is redundantly defined by the 'color' keyword argument and the fmt string \"og\" (-> color='g'). The keyword argument will take precedence.\n",
      "  ax.plot(i, control_sim[i], 'og', markersize=3,c='g')\n",
      "/home/jofrony/miniconda3/envs/py37/lib/python3.7/site-packages/neuromodcell/plotting.py:73: MatplotlibDeprecationWarning: savefig() got unexpected keyword argument \"papertype\" which is no longer supported as of 3.3 and will become an error two minor releases later\n",
      "  frameon=None, metadata=None)\n",
      "/home/jofrony/miniconda3/envs/py37/lib/python3.7/site-packages/neuromodcell/plotting.py:73: MatplotlibDeprecationWarning: savefig() got unexpected keyword argument \"frameon\" which is no longer supported as of 3.3 and will become an error two minor releases later\n",
      "  frameon=None, metadata=None)\n"
     ]
    },
    {
     "data": {
      "image/png": "[encoded data removed]",
      "text/plain": [
       "<Figure size 216x360 with 1 Axes>"
      ]
     },
     "metadata": {
      "needs_background": "light"
     },
     "output_type": "display_data"
    }
   ],
   "source": [
    "dl = dSPNanalysis('dspn/dopamine/ID_3/')\n",
    "dl.load()\n",
    "dl.dopamine_analysis()\n",
    "\n",
    "\n",
    "dSPNmodulation = Experimental() \n",
    "dSPNmodulation.define_exp(control = { \"mean\" : 3.566, \"std\" : 0.88})\n",
    "dSPNmodulation.define_exp(modulated = { \"mean\" :3.566 + dl.get_criteria()['mean'], \\\n",
    "                                       \"std\" : dl.get_criteria()['std'] * 1.5})\n",
    "\n",
    "dSPNmodulation.define_exp(control_sim = dl.get_dopamine_control())\n",
    "dSPNmodulation.define_exp(modulated_sim = [dl.num_AP_passing_analysis_traces_dopamine])\n",
    "dl.plot_comparison(dSPNmodulation.experimental_data['control'],dSPNmodulation.experimental_data['control_sim'],\\\n",
    "                   dSPNmodulation.experimental_data['modulated'], dSPNmodulation.experimental_data['modulated_sim'],\\\n",
    "                   x_ticks=['Model 1'],ylabel='Number of APs',title='Dopamine modulation',num_models=1,save=True,\\\n",
    "                   filename='model_1.pdf',width=3,height=5)"
   ]
  },
  {
   "cell_type": "code",
   "execution_count": 5,
   "metadata": {},
   "outputs": [
    {
     "ename": "ValueError",
     "evalue": "min() arg is an empty sequence",
     "output_type": "error",
     "traceback": [
      "\u001b[0;31m---------------------------------------------------------------------------\u001b[0m",
      "\u001b[0;31mValueError\u001b[0m                                Traceback (most recent call last)",
      "\u001b[0;32m<ipython-input-5-d513c1b34b06>\u001b[0m in \u001b[0;36m<module>\u001b[0;34m\u001b[0m\n\u001b[0;32m----> 1\u001b[0;31m \u001b[0mdl\u001b[0m\u001b[0;34m.\u001b[0m\u001b[0msave_selected_modulation\u001b[0m\u001b[0;34m(\u001b[0m\u001b[0;34m)\u001b[0m\u001b[0;34m\u001b[0m\u001b[0;34m\u001b[0m\u001b[0m\n\u001b[0m\u001b[1;32m      2\u001b[0m \u001b[0mmodulation\u001b[0m\u001b[0;34m,\u001b[0m \u001b[0mvoltage\u001b[0m \u001b[0;34m=\u001b[0m \u001b[0mdl\u001b[0m\u001b[0;34m.\u001b[0m\u001b[0mget_final_modulation\u001b[0m\u001b[0;34m(\u001b[0m\u001b[0;34m)\u001b[0m\u001b[0;34m\u001b[0m\u001b[0;34m\u001b[0m\u001b[0m\n\u001b[1;32m      3\u001b[0m \u001b[0;34m\u001b[0m\u001b[0m\n\u001b[1;32m      4\u001b[0m \u001b[0mdl\u001b[0m\u001b[0;34m.\u001b[0m\u001b[0mplot_chosen_modulation\u001b[0m\u001b[0;34m(\u001b[0m\u001b[0;34m)\u001b[0m\u001b[0;34m\u001b[0m\u001b[0;34m\u001b[0m\u001b[0m\n",
      "\u001b[0;32m~/Documents/Repositories/Neuromodcell/examples/dSPN/dspn_analysis.py\u001b[0m in \u001b[0;36msave_selected_modulation\u001b[0;34m(self)\u001b[0m\n\u001b[1;32m    137\u001b[0m         \u001b[0mvoltage_sub\u001b[0m \u001b[0;34m=\u001b[0m \u001b[0mnp\u001b[0m\u001b[0;34m.\u001b[0m\u001b[0mtake\u001b[0m\u001b[0;34m(\u001b[0m\u001b[0mself\u001b[0m\u001b[0;34m.\u001b[0m\u001b[0mvoltages\u001b[0m\u001b[0;34m[\u001b[0m\u001b[0;36m1\u001b[0m\u001b[0;34m:\u001b[0m\u001b[0;34m-\u001b[0m\u001b[0;36m1\u001b[0m\u001b[0;34m]\u001b[0m\u001b[0;34m,\u001b[0m\u001b[0mindex_original\u001b[0m\u001b[0;34m,\u001b[0m\u001b[0maxis\u001b[0m\u001b[0;34m=\u001b[0m\u001b[0;36m0\u001b[0m\u001b[0;34m)\u001b[0m\u001b[0;34m[\u001b[0m\u001b[0;36m0\u001b[0m\u001b[0;34m]\u001b[0m\u001b[0;34m\u001b[0m\u001b[0;34m\u001b[0m\u001b[0m\n\u001b[1;32m    138\u001b[0m \u001b[0;34m\u001b[0m\u001b[0m\n\u001b[0;32m--> 139\u001b[0;31m         \u001b[0mindex\u001b[0m \u001b[0;34m=\u001b[0m \u001b[0mnp\u001b[0m\u001b[0;34m.\u001b[0m\u001b[0mwhere\u001b[0m\u001b[0;34m(\u001b[0m\u001b[0mnp\u001b[0m\u001b[0;34m.\u001b[0m\u001b[0mtranspose\u001b[0m\u001b[0;34m(\u001b[0m\u001b[0mresults_pass\u001b[0m\u001b[0;34m)\u001b[0m\u001b[0;34m[\u001b[0m\u001b[0;36m0\u001b[0m\u001b[0;34m]\u001b[0m \u001b[0;34m==\u001b[0m  \u001b[0mmin\u001b[0m\u001b[0;34m(\u001b[0m\u001b[0mnp\u001b[0m\u001b[0;34m.\u001b[0m\u001b[0mtranspose\u001b[0m\u001b[0;34m(\u001b[0m\u001b[0mresults_pass\u001b[0m\u001b[0;34m)\u001b[0m\u001b[0;34m[\u001b[0m\u001b[0;36m0\u001b[0m\u001b[0;34m]\u001b[0m\u001b[0;34m)\u001b[0m\u001b[0;34m)\u001b[0m\u001b[0;34m\u001b[0m\u001b[0;34m\u001b[0m\u001b[0m\n\u001b[0m\u001b[1;32m    140\u001b[0m \u001b[0;34m\u001b[0m\u001b[0m\n\u001b[1;32m    141\u001b[0m         \u001b[0;32mif\u001b[0m \u001b[0mlen\u001b[0m\u001b[0;34m(\u001b[0m\u001b[0mindex\u001b[0m\u001b[0;34m[\u001b[0m\u001b[0;36m0\u001b[0m\u001b[0;34m]\u001b[0m\u001b[0;34m)\u001b[0m\u001b[0;34m>\u001b[0m\u001b[0;36m1\u001b[0m\u001b[0;34m:\u001b[0m\u001b[0;34m\u001b[0m\u001b[0;34m\u001b[0m\u001b[0m\n",
      "\u001b[0;31mValueError\u001b[0m: min() arg is an empty sequence"
     ]
    }
   ],
   "source": [
    "dl.save_selected_modulation()\n",
    "modulation, voltage = dl.get_final_modulation()\n",
    "\n",
    "dl.plot_chosen_modulation()"
   ]
  },
  {
   "cell_type": "code",
   "execution_count": null,
   "metadata": {},
   "outputs": [],
   "source": []
  }
 ],
 "metadata": {
  "kernelspec": {
   "display_name": "Python 3",
   "language": "python",
   "name": "python3"
  },
  "language_info": {
   "codemirror_mode": {
    "name": "ipython",
    "version": 3
   },
   "file_extension": ".py",
   "mimetype": "text/x-python",
   "name": "python",
   "nbconvert_exporter": "python",
   "pygments_lexer": "ipython3",
   "version": "3.7.9"
  }
 },
 "nbformat": 4,
 "nbformat_minor": 4
}
